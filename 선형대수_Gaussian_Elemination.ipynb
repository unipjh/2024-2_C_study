{
  "nbformat": 4,
  "nbformat_minor": 0,
  "metadata": {
    "colab": {
      "provenance": [],
      "authorship_tag": "ABX9TyMgcjBF3398FSfH/FHb1hue",
      "include_colab_link": true
    },
    "kernelspec": {
      "name": "python3",
      "display_name": "Python 3"
    },
    "language_info": {
      "name": "python"
    }
  },
  "cells": [
    {
      "cell_type": "markdown",
      "metadata": {
        "id": "view-in-github",
        "colab_type": "text"
      },
      "source": [
        "<a href=\"https://colab.research.google.com/github/unipjh/2024-2_C_study/blob/main/%EC%84%A0%ED%98%95%EB%8C%80%EC%88%98_Gaussian_Elemination.ipynb\" target=\"_parent\"><img src=\"https://colab.research.google.com/assets/colab-badge.svg\" alt=\"Open In Colab\"/></a>"
      ]
    },
    {
      "cell_type": "markdown",
      "source": [
        "#Gaussian-Elmination"
      ],
      "metadata": {
        "id": "KKQNrsj7Xcxc"
      }
    },
    {
      "cell_type": "markdown",
      "source": [
        "행 교환을 하는 경우를 고려하지 않은 가우스 소거 코드"
      ],
      "metadata": {
        "id": "uWe0RPS5G3LS"
      }
    },
    {
      "cell_type": "code",
      "source": [
        "import numpy as np\n",
        "\n",
        "def gaussian_elimination(A, b):\n",
        "    m = len(A)\n",
        "    Ab = np.hstack([A, b.reshape(-1, 1)])  # 첨가 행렬로 만들기\n",
        "\n",
        "    # 전진 소거 과정\n",
        "    for i in range(m):\n",
        "        pivot = Ab[i, i]  # 각 행별 pivot 결정\n",
        "        if pivot == 0:\n",
        "            raise ValueError(\"행렬 A는 특이행렬(singular).\")\n",
        "        Ab[i] = Ab[i] / pivot\n",
        "        for j in range(i + 1, m):\n",
        "            Ab[j] = Ab[j] - Ab[i] * Ab[j, i]\n",
        "\n",
        "    # 후진 대입 과정\n",
        "    x = np.zeros(m)\n",
        "    for i in range(m - 1, -1, -1):  # 맨 밑의 행부터 대입\n",
        "        x[i] = Ab[i, -1] - np.dot(Ab[i, i + 1:m], x[i + 1:m])\n",
        "    return x\n",
        "\n",
        "A = np.array([[0, 1, 1, -2],\n",
        "              [1, 2, -1, 0],\n",
        "              [2, 4, 1, -3],\n",
        "              [1, -4, -7, -1]])\n",
        "\n",
        "b = np.array([[-3],\n",
        "              [2],\n",
        "              [-2],\n",
        "              [-19]])\n",
        "\n",
        "# 가우스 소거법 적용\n",
        "rst = gaussian_elimination(A, b)\n",
        "rst"
      ],
      "metadata": {
        "id": "o3ihHH1Bh33l",
        "colab": {
          "base_uri": "https://localhost:8080/",
          "height": 327
        },
        "outputId": "b5001d80-ae8f-426b-82f8-3c5c5a7fecf7"
      },
      "execution_count": null,
      "outputs": [
        {
          "output_type": "error",
          "ename": "ValueError",
          "evalue": "행렬 A는 특이행렬(singular).",
          "traceback": [
            "\u001b[0;31m---------------------------------------------------------------------------\u001b[0m",
            "\u001b[0;31mValueError\u001b[0m                                Traceback (most recent call last)",
            "\u001b[0;32m<ipython-input-33-f747e7665819>\u001b[0m in \u001b[0;36m<cell line: 66>\u001b[0;34m()\u001b[0m\n\u001b[1;32m     64\u001b[0m \u001b[0;34m\u001b[0m\u001b[0m\n\u001b[1;32m     65\u001b[0m \u001b[0;31m# 가우스 소거법 적용\u001b[0m\u001b[0;34m\u001b[0m\u001b[0;34m\u001b[0m\u001b[0m\n\u001b[0;32m---> 66\u001b[0;31m \u001b[0mrst\u001b[0m \u001b[0;34m=\u001b[0m \u001b[0mgaussian_elimination\u001b[0m\u001b[0;34m(\u001b[0m\u001b[0mA\u001b[0m\u001b[0;34m,\u001b[0m \u001b[0mb\u001b[0m\u001b[0;34m)\u001b[0m\u001b[0;34m\u001b[0m\u001b[0;34m\u001b[0m\u001b[0m\n\u001b[0m\u001b[1;32m     67\u001b[0m \u001b[0mrst\u001b[0m\u001b[0;34m\u001b[0m\u001b[0;34m\u001b[0m\u001b[0m\n",
            "\u001b[0;32m<ipython-input-33-f747e7665819>\u001b[0m in \u001b[0;36mgaussian_elimination\u001b[0;34m(A, b)\u001b[0m\n\u001b[1;32m     15\u001b[0m         \u001b[0mpivot\u001b[0m \u001b[0;34m=\u001b[0m \u001b[0mAb\u001b[0m\u001b[0;34m[\u001b[0m\u001b[0mi\u001b[0m\u001b[0;34m,\u001b[0m \u001b[0mi\u001b[0m\u001b[0;34m]\u001b[0m  \u001b[0;31m# 각 행별 pivot 결정\u001b[0m\u001b[0;34m\u001b[0m\u001b[0;34m\u001b[0m\u001b[0m\n\u001b[1;32m     16\u001b[0m         \u001b[0;32mif\u001b[0m \u001b[0mpivot\u001b[0m \u001b[0;34m==\u001b[0m \u001b[0;36m0\u001b[0m\u001b[0;34m:\u001b[0m\u001b[0;34m\u001b[0m\u001b[0;34m\u001b[0m\u001b[0m\n\u001b[0;32m---> 17\u001b[0;31m             \u001b[0;32mraise\u001b[0m \u001b[0mValueError\u001b[0m\u001b[0;34m(\u001b[0m\u001b[0;34m\"행렬 A는 특이행렬(singular).\"\u001b[0m\u001b[0;34m)\u001b[0m\u001b[0;34m\u001b[0m\u001b[0;34m\u001b[0m\u001b[0m\n\u001b[0m\u001b[1;32m     18\u001b[0m         \u001b[0;31m# 피벗 행을 피벗으로 나누기\u001b[0m\u001b[0;34m\u001b[0m\u001b[0;34m\u001b[0m\u001b[0m\n\u001b[1;32m     19\u001b[0m         \u001b[0mAb\u001b[0m\u001b[0;34m[\u001b[0m\u001b[0mi\u001b[0m\u001b[0;34m]\u001b[0m \u001b[0;34m=\u001b[0m \u001b[0mAb\u001b[0m\u001b[0;34m[\u001b[0m\u001b[0mi\u001b[0m\u001b[0;34m]\u001b[0m \u001b[0;34m/\u001b[0m \u001b[0mpivot\u001b[0m\u001b[0;34m\u001b[0m\u001b[0;34m\u001b[0m\u001b[0m\n",
            "\u001b[0;31mValueError\u001b[0m: 행렬 A는 특이행렬(singular)."
          ]
        }
      ]
    },
    {
      "cell_type": "markdown",
      "source": [
        ".#23.행 교환을 반영한 후 가우스 소거 코드"
      ],
      "metadata": {
        "id": "IeuapHgVHuhu"
      }
    },
    {
      "cell_type": "code",
      "source": [
        "import numpy as np #python에서 행렬연산을 하기 위해, 계산에 최적화된 라이브러리(Numpy)를 import함\n",
        "\n",
        "def gaussian_elimination(A, b):\n",
        "    m = len(A)  # 행렬의 행 수를 나타냄\n",
        "    '''\n",
        "    이때 열 수를 알고 싶으면 n = A.shape[1]로 해야함!\n",
        "    A.shape:(행의 개수, 열의 개수)를 나타내는 튜플을 반환\n",
        "    행: m = len(A) OR m = A.shape[0]\n",
        "    열: n = A.shape[1]\n",
        "    '''\n",
        "    Ab = np.hstack([A, b.reshape(-1, 1)])  # 첨가 행렬로 만들기\n",
        "\n",
        "    # 전진 소거 과정\n",
        "    for i in range(m):\n",
        "        pivot = Ab[i, i]  # 각 행별 pivot 결정\n",
        "\n",
        "        # 피벗이 0인 경우, 아래 행 중 피벗이 0이 아닌 행과 교환\n",
        "        if pivot == 0:\n",
        "            for k in range(i + 1, m):\n",
        "                if Ab[k, i] != 0:\n",
        "                    Ab[[i, k]] = Ab[[k, i]]  # 교환\n",
        "                    pivot = Ab[i, i]\n",
        "                    break\n",
        "            if pivot == 0:  # 여전히 피벗이 0이면 특이 행렬로 판단\n",
        "                raise ValueError(\"행렬 A는 특이행렬(singular).\")\n",
        "\n",
        "        # 피벗 행을 피벗으로 나누기\n",
        "        Ab[i] = Ab[i] / pivot\n",
        "        '''\n",
        "        이 결과로 각 행의 피벗이 1이 됨으로써\n",
        "        후진 대입 과정에서 추가적인 나눗셈을 필요없게 함!\n",
        "        '''\n",
        "        for j in range(i + 1, m):\n",
        "            Ab[j] = Ab[j] - Ab[i] * Ab[j, i]  # 각 행별로 기본행연산 진행\n",
        "    \"\"\"\n",
        "    Ab[j]: 기본행 연산을 통해 새로 대입해줄 행 (EX: r3 -> 3*r1- r1에서 r3)\n",
        "    Ab[i]: 기본행 연산에서 기준이 되줄 행 (EX: r3 -> 3*r1- r3에서 r1)\n",
        "    Ab[j,i]: 0을 만들기 위해서, pivot에 곱해줄 상수 (EX: r3 -> 3*r1- r1에서 3)\n",
        "    \"\"\"\n",
        "\n",
        "    # 후진 대입 과정\n",
        "    x = np.zeros(m)\n",
        "    for i in range(m - 1, -1, -1):  # 맨 밑의 행부터 대입\n",
        "        x[i] = Ab[i, -1] - np.dot(Ab[i, i + 1:m], x[i + 1:m])\n",
        "        '''\n",
        "        i = m-1일 때, 즉 첫 시행에서는 pivot이 1이므로 x_m = Ab[m-1,-1]으로 바로 구해짐. 그리고 x[m-1]에 저장\n",
        "\n",
        "        i = m-2일 때, 즉 두번째 시행에서는 x[m-1]의 값을 고려하여, 방정식을 풀어주어야 하므로,\n",
        "        np.dot(Ab[i, i + 1:m], x[i + 1:m])의 값이 반영됨\n",
        "\n",
        "        ***여기에 내적을 하는 이유는 Ab[i,i+1:m]은 해당 행에서 계수 부분이고, x[i,i+1:m]은 해 부분이므로,\n",
        "        이전 시행에서 구한 해 (2번째 시행인 경우에 x[m-1])를 반영하여 새로운 해를 도출해야함\n",
        "        ex) 어떤 행이 [0 1 2] [x1,x2,x3]^T(열벡터를 표현)=[3]이라고 할 때, x3=1이면 x2=3-2*1이다.\n",
        "        이 예시에서 x2==x[i], 3==Ab[i,-1], 2*1==np.dot(Ab[i, i + 1:m], x[i + 1:m])이다!\n",
        "\n",
        "        i = m-3일 때, 즉 세번 째 시행에서도 두번 째 시행과 마찬가지로 반영\n",
        "\n",
        "        ...\n",
        "\n",
        "        이후 모든행에서 대입을 하면 x는 해 벡터의 형태로 저장됨.\n",
        "        '''\n",
        "    return x\n",
        "\n",
        "A = np.array([[0, 1, 1, -2],\n",
        "              [1, 2, -1, 0],\n",
        "              [2, 4, 1, -3],\n",
        "              [1, -4, -7, -1]])\n",
        "\n",
        "b = np.array([[-3],\n",
        "              [2],\n",
        "              [-2],\n",
        "              [-19]])\n",
        "\n",
        "# 가우스 소거법 적용\n",
        "rst = gaussian_elimination(A, b)\n",
        "rst"
      ],
      "metadata": {
        "colab": {
          "base_uri": "https://localhost:8080/"
        },
        "id": "UZwfF0J317bS",
        "outputId": "799dd779-0e3f-42ac-dc34-b4324f2b37f1"
      },
      "execution_count": null,
      "outputs": [
        {
          "output_type": "execute_result",
          "data": {
            "text/plain": [
              "array([-1.,  2.,  1.,  3.])"
            ]
          },
          "metadata": {},
          "execution_count": 32
        }
      ]
    },
    {
      "cell_type": "markdown",
      "source": [
        ".#28. 전진 소거 중 행 교환이 필요한 문제\n",
        "\n",
        "\n",
        "*  출력값을 보다싶이, 문제가 있는데 코드 어디에서 틀렸는지 궁금하다..\n",
        "\n",
        "\n",
        "\n"
      ],
      "metadata": {
        "id": "4DSnwQ98hlY9"
      }
    },
    {
      "cell_type": "code",
      "source": [
        "import numpy as np\n",
        "def gaussian_elimination(A, b):\n",
        "    m = len(A)\n",
        "    Ab = np.hstack([A, b.reshape(-1, 1)])\n",
        "\n",
        "    for i in range(m):\n",
        "        pivot = Ab[i, i]\n",
        "        if pivot == 0:\n",
        "            for k in range(i + 1, m):\n",
        "                if Ab[k, i] != 0:\n",
        "                    Ab[[i, k]] = Ab[[k, i]]\n",
        "                    pivot = Ab[i, i]\n",
        "                    break\n",
        "            if pivot == 0:\n",
        "                raise ValueError(\"행렬 A는 특이행렬(singular).\")\n",
        "        for j in range(i + 1, m):\n",
        "            Ab[j] = Ab[j] - Ab[i] * Ab[j, i]\n",
        "\n",
        "    x = np.zeros(m)\n",
        "    for i in range(m - 1, -1, -1):\n",
        "        x[i] = Ab[i, -1] - np.dot(Ab[i, i + 1:m], x[i + 1:m])\n",
        "    return x\n",
        "\n",
        "A = np.array([[12,10,-7],\n",
        "              [6,5,3],\n",
        "              [24,-1,5]])\n",
        "\n",
        "b = np.array([[15],\n",
        "              [14],\n",
        "              [18]])\n",
        "\n",
        "rst = gaussian_elimination(A, b)\n",
        "rst\n"
      ],
      "metadata": {
        "colab": {
          "base_uri": "https://localhost:8080/"
        },
        "id": "ycjfp0nphlI2",
        "outputId": "63597266-1c84-4861-e56d-e97d379dd14a"
      },
      "execution_count": null,
      "outputs": [
        {
          "output_type": "execute_result",
          "data": {
            "text/plain": [
              "array([-8525931.,   839534.,   -18658.])"
            ]
          },
          "metadata": {},
          "execution_count": 2
        }
      ]
    },
    {
      "cell_type": "markdown",
      "source": [
        ".#29.소수점 마다 바뀌는 가우스 소거의 결괏값\n"
      ],
      "metadata": {
        "id": "8WYTOjRxIB9Y"
      }
    },
    {
      "cell_type": "code",
      "source": [
        "import numpy as np\n",
        "\n",
        "# 주어진 행렬과 벡터를 정의합니다.\n",
        "A = np.array([[20, 15, 10],\n",
        "              [-3, -2.249, 7],\n",
        "              [5, 1, 3]], dtype=float)\n",
        "\n",
        "b = np.array([45, 1.751, 9], dtype=float)\n",
        "\n",
        "# 행렬 A를 상삼각행렬로 변환하는 가우스 소거법\n",
        "n = len(b)\n",
        "\n",
        "# 단계 1: 전진 소거 (Forward elimination)\n",
        "for i in range(n):\n",
        "    # 피벗(선택한 행에서 가장 큰 절댓값) 찾기\n",
        "    max_row = i + np.argmax(np.abs(A[i:, i]))\n",
        "    # 피벗 행과 현재 행을 교환\n",
        "    if max_row != i:\n",
        "        A[[i, max_row]] = A[[max_row, i]]\n",
        "        b[[i, max_row]] = b[[max_row, i]]\n",
        "\n",
        "    # 피벗을 사용하여 다른 행을 소거\n",
        "    for j in range(i + 1, n):\n",
        "        factor = A[j, i] / A[i, i]\n",
        "        A[j, i:] -= factor * A[i, i:]\n",
        "        b[j] -= factor * b[i]\n",
        "\n",
        "# 단계 2: 후진 대입 (Back substitution)\n",
        "x = np.zeros(n)\n",
        "for i in range(n-1, -1, -1):\n",
        "    x[i] = (b[i] - np.dot(A[i, i+1:], x[i+1:])) / A[i, i]\n",
        "\n",
        "# 소수점 6자리까지 출력\n",
        "rst_6 = np.round(x, 6)\n",
        "# 소수점 5자리까지 출력\n",
        "rst_5= np.round(x, 5)\n",
        "print(\"6th answer\",rst_6)\n",
        "print(\"5th answer\",rst_5)"
      ],
      "metadata": {
        "colab": {
          "base_uri": "https://localhost:8080/"
        },
        "id": "-fE4rLFDIOms",
        "outputId": "cf2b5737-edff-4a25-8924-c5907e20502b"
      },
      "execution_count": null,
      "outputs": [
        {
          "output_type": "stream",
          "name": "stdout",
          "text": [
            "6th answer [1. 1. 1.]\n",
            "5th answer [1. 1. 1.]\n"
          ]
        }
      ]
    },
    {
      "cell_type": "markdown",
      "source": [
        "행,열의 수, 요소 입력시 행렬 출력하는 코드(미완성)\n"
      ],
      "metadata": {
        "id": "De4G5KqNH7Gm"
      }
    },
    {
      "cell_type": "code",
      "source": [
        "# 행렬과 벡터 입력\n",
        "len_row = int(input('row: '))\n",
        "len_column = int(input('column: '))\n",
        "matrix = []\n",
        "\n",
        "# 행렬 A 입력\n",
        "for i in range(len_row):\n",
        "    row = list(map(int, input().split()))\n",
        "    if len(row) != len_column:  # 열의 수가 맞지 않으면 오류 발생\n",
        "        raise ValueError(f\"Error: You must enter {len_column} elements per row.\")\n",
        "    matrix.append(row)\n",
        "\n",
        "A = np.array(matrix)\n",
        "\n",
        "# 벡터 b 입력\n",
        "vector = []\n",
        "for i in range(len_row):\n",
        "    element = int(input('b= '))\n",
        "    vector.append(element)\n",
        "\n",
        "b = np.array(vector)\n",
        "\n",
        "# 가우스 소거법 적용\n",
        "rst = gaussian_elimination(A, b)\n",
        "print(\"Solution vector x:\", rst)\n"
      ],
      "metadata": {
        "id": "4-277aVm0PlJ"
      },
      "execution_count": null,
      "outputs": []
    }
  ]
}